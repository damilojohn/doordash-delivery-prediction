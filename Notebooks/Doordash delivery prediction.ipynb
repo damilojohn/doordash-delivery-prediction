{
 "cells": [
  {
   "cell_type": "code",
   "execution_count": 1,
   "id": "a46fdb67-2eb7-43cf-b36b-c434c2e01207",
   "metadata": {},
   "outputs": [],
   "source": [
    "import pandas as pd \n",
    "import numpy as np  \n",
    "import matplotlib.pyplot as plt \n",
    "import seaborn as sns "
   ]
  },
  {
   "cell_type": "code",
   "execution_count": 2,
   "id": "b5ffc415-9258-435e-9499-1e4a8e1f17d6",
   "metadata": {},
   "outputs": [],
   "source": [
    "data = pd.read_csv(r\"C:\\Users\\USER\\Documents\\historical_data.csv\")"
   ]
  },
  {
   "cell_type": "code",
   "execution_count": 3,
   "id": "5c4ee594-95c1-4333-83d7-940fbaffcd13",
   "metadata": {},
   "outputs": [
    {
     "data": {
      "text/html": [
       "<div>\n",
       "<style scoped>\n",
       "    .dataframe tbody tr th:only-of-type {\n",
       "        vertical-align: middle;\n",
       "    }\n",
       "\n",
       "    .dataframe tbody tr th {\n",
       "        vertical-align: top;\n",
       "    }\n",
       "\n",
       "    .dataframe thead th {\n",
       "        text-align: right;\n",
       "    }\n",
       "</style>\n",
       "<table border=\"1\" class=\"dataframe\">\n",
       "  <thead>\n",
       "    <tr style=\"text-align: right;\">\n",
       "      <th></th>\n",
       "      <th>market_id</th>\n",
       "      <th>created_at</th>\n",
       "      <th>actual_delivery_time</th>\n",
       "      <th>store_id</th>\n",
       "      <th>store_primary_category</th>\n",
       "      <th>order_protocol</th>\n",
       "      <th>total_items</th>\n",
       "      <th>subtotal</th>\n",
       "      <th>num_distinct_items</th>\n",
       "      <th>min_item_price</th>\n",
       "      <th>max_item_price</th>\n",
       "      <th>total_onshift_dashers</th>\n",
       "      <th>total_busy_dashers</th>\n",
       "      <th>total_outstanding_orders</th>\n",
       "      <th>estimated_order_place_duration</th>\n",
       "      <th>estimated_store_to_consumer_driving_duration</th>\n",
       "    </tr>\n",
       "  </thead>\n",
       "  <tbody>\n",
       "    <tr>\n",
       "      <th>0</th>\n",
       "      <td>1.0</td>\n",
       "      <td>2015-02-06 22:24:17</td>\n",
       "      <td>2015-02-06 23:27:16</td>\n",
       "      <td>1845</td>\n",
       "      <td>american</td>\n",
       "      <td>1.0</td>\n",
       "      <td>4</td>\n",
       "      <td>3441</td>\n",
       "      <td>4</td>\n",
       "      <td>557</td>\n",
       "      <td>1239</td>\n",
       "      <td>33.0</td>\n",
       "      <td>14.0</td>\n",
       "      <td>21.0</td>\n",
       "      <td>446</td>\n",
       "      <td>861.0</td>\n",
       "    </tr>\n",
       "    <tr>\n",
       "      <th>1</th>\n",
       "      <td>2.0</td>\n",
       "      <td>2015-02-10 21:49:25</td>\n",
       "      <td>2015-02-10 22:56:29</td>\n",
       "      <td>5477</td>\n",
       "      <td>mexican</td>\n",
       "      <td>2.0</td>\n",
       "      <td>1</td>\n",
       "      <td>1900</td>\n",
       "      <td>1</td>\n",
       "      <td>1400</td>\n",
       "      <td>1400</td>\n",
       "      <td>1.0</td>\n",
       "      <td>2.0</td>\n",
       "      <td>2.0</td>\n",
       "      <td>446</td>\n",
       "      <td>690.0</td>\n",
       "    </tr>\n",
       "    <tr>\n",
       "      <th>2</th>\n",
       "      <td>3.0</td>\n",
       "      <td>2015-01-22 20:39:28</td>\n",
       "      <td>2015-01-22 21:09:09</td>\n",
       "      <td>5477</td>\n",
       "      <td>NaN</td>\n",
       "      <td>1.0</td>\n",
       "      <td>1</td>\n",
       "      <td>1900</td>\n",
       "      <td>1</td>\n",
       "      <td>1900</td>\n",
       "      <td>1900</td>\n",
       "      <td>1.0</td>\n",
       "      <td>0.0</td>\n",
       "      <td>0.0</td>\n",
       "      <td>446</td>\n",
       "      <td>690.0</td>\n",
       "    </tr>\n",
       "    <tr>\n",
       "      <th>3</th>\n",
       "      <td>3.0</td>\n",
       "      <td>2015-02-03 21:21:45</td>\n",
       "      <td>2015-02-03 22:13:00</td>\n",
       "      <td>5477</td>\n",
       "      <td>NaN</td>\n",
       "      <td>1.0</td>\n",
       "      <td>6</td>\n",
       "      <td>6900</td>\n",
       "      <td>5</td>\n",
       "      <td>600</td>\n",
       "      <td>1800</td>\n",
       "      <td>1.0</td>\n",
       "      <td>1.0</td>\n",
       "      <td>2.0</td>\n",
       "      <td>446</td>\n",
       "      <td>289.0</td>\n",
       "    </tr>\n",
       "    <tr>\n",
       "      <th>4</th>\n",
       "      <td>3.0</td>\n",
       "      <td>2015-02-15 02:40:36</td>\n",
       "      <td>2015-02-15 03:20:26</td>\n",
       "      <td>5477</td>\n",
       "      <td>NaN</td>\n",
       "      <td>1.0</td>\n",
       "      <td>3</td>\n",
       "      <td>3900</td>\n",
       "      <td>3</td>\n",
       "      <td>1100</td>\n",
       "      <td>1600</td>\n",
       "      <td>6.0</td>\n",
       "      <td>6.0</td>\n",
       "      <td>9.0</td>\n",
       "      <td>446</td>\n",
       "      <td>650.0</td>\n",
       "    </tr>\n",
       "  </tbody>\n",
       "</table>\n",
       "</div>"
      ],
      "text/plain": [
       "   market_id           created_at actual_delivery_time  store_id  \\\n",
       "0        1.0  2015-02-06 22:24:17  2015-02-06 23:27:16      1845   \n",
       "1        2.0  2015-02-10 21:49:25  2015-02-10 22:56:29      5477   \n",
       "2        3.0  2015-01-22 20:39:28  2015-01-22 21:09:09      5477   \n",
       "3        3.0  2015-02-03 21:21:45  2015-02-03 22:13:00      5477   \n",
       "4        3.0  2015-02-15 02:40:36  2015-02-15 03:20:26      5477   \n",
       "\n",
       "  store_primary_category  order_protocol  total_items  subtotal  \\\n",
       "0               american             1.0            4      3441   \n",
       "1                mexican             2.0            1      1900   \n",
       "2                    NaN             1.0            1      1900   \n",
       "3                    NaN             1.0            6      6900   \n",
       "4                    NaN             1.0            3      3900   \n",
       "\n",
       "   num_distinct_items  min_item_price  max_item_price  total_onshift_dashers  \\\n",
       "0                   4             557            1239                   33.0   \n",
       "1                   1            1400            1400                    1.0   \n",
       "2                   1            1900            1900                    1.0   \n",
       "3                   5             600            1800                    1.0   \n",
       "4                   3            1100            1600                    6.0   \n",
       "\n",
       "   total_busy_dashers  total_outstanding_orders  \\\n",
       "0                14.0                      21.0   \n",
       "1                 2.0                       2.0   \n",
       "2                 0.0                       0.0   \n",
       "3                 1.0                       2.0   \n",
       "4                 6.0                       9.0   \n",
       "\n",
       "   estimated_order_place_duration  \\\n",
       "0                             446   \n",
       "1                             446   \n",
       "2                             446   \n",
       "3                             446   \n",
       "4                             446   \n",
       "\n",
       "   estimated_store_to_consumer_driving_duration  \n",
       "0                                         861.0  \n",
       "1                                         690.0  \n",
       "2                                         690.0  \n",
       "3                                         289.0  \n",
       "4                                         650.0  "
      ]
     },
     "execution_count": 3,
     "metadata": {},
     "output_type": "execute_result"
    }
   ],
   "source": [
    "data.head()"
   ]
  },
  {
   "cell_type": "code",
   "execution_count": 4,
   "id": "e5088e3f-5edf-486e-93bd-d7396f603f33",
   "metadata": {},
   "outputs": [
    {
     "name": "stdout",
     "output_type": "stream",
     "text": [
      "<class 'pandas.core.frame.DataFrame'>\n",
      "RangeIndex: 197428 entries, 0 to 197427\n",
      "Data columns (total 16 columns):\n",
      " #   Column                                        Non-Null Count   Dtype  \n",
      "---  ------                                        --------------   -----  \n",
      " 0   market_id                                     196441 non-null  float64\n",
      " 1   created_at                                    197428 non-null  object \n",
      " 2   actual_delivery_time                          197421 non-null  object \n",
      " 3   store_id                                      197428 non-null  int64  \n",
      " 4   store_primary_category                        192668 non-null  object \n",
      " 5   order_protocol                                196433 non-null  float64\n",
      " 6   total_items                                   197428 non-null  int64  \n",
      " 7   subtotal                                      197428 non-null  int64  \n",
      " 8   num_distinct_items                            197428 non-null  int64  \n",
      " 9   min_item_price                                197428 non-null  int64  \n",
      " 10  max_item_price                                197428 non-null  int64  \n",
      " 11  total_onshift_dashers                         181166 non-null  float64\n",
      " 12  total_busy_dashers                            181166 non-null  float64\n",
      " 13  total_outstanding_orders                      181166 non-null  float64\n",
      " 14  estimated_order_place_duration                197428 non-null  int64  \n",
      " 15  estimated_store_to_consumer_driving_duration  196902 non-null  float64\n",
      "dtypes: float64(6), int64(7), object(3)\n",
      "memory usage: 24.1+ MB\n"
     ]
    }
   ],
   "source": [
    "data.info()"
   ]
  },
  {
   "cell_type": "code",
   "execution_count": 5,
   "id": "31ed6956-4129-4f59-b41a-cff465869314",
   "metadata": {},
   "outputs": [],
   "source": [
    "#converting datatime to pd datatype\n",
    "data['created_at'] = pd.to_datetime(data['created_at'])\n",
    "data['actual_delivery_time'] = pd.to_datetime(data['actual_delivery_time'])"
   ]
  },
  {
   "cell_type": "code",
   "execution_count": 6,
   "id": "181981ad-d63a-442f-821c-cd87bad98144",
   "metadata": {
    "tags": []
   },
   "outputs": [
    {
     "name": "stdout",
     "output_type": "stream",
     "text": [
      "<class 'pandas.core.frame.DataFrame'>\n",
      "RangeIndex: 197428 entries, 0 to 197427\n",
      "Data columns (total 16 columns):\n",
      " #   Column                                        Non-Null Count   Dtype         \n",
      "---  ------                                        --------------   -----         \n",
      " 0   market_id                                     196441 non-null  float64       \n",
      " 1   created_at                                    197428 non-null  datetime64[ns]\n",
      " 2   actual_delivery_time                          197421 non-null  datetime64[ns]\n",
      " 3   store_id                                      197428 non-null  int64         \n",
      " 4   store_primary_category                        192668 non-null  object        \n",
      " 5   order_protocol                                196433 non-null  float64       \n",
      " 6   total_items                                   197428 non-null  int64         \n",
      " 7   subtotal                                      197428 non-null  int64         \n",
      " 8   num_distinct_items                            197428 non-null  int64         \n",
      " 9   min_item_price                                197428 non-null  int64         \n",
      " 10  max_item_price                                197428 non-null  int64         \n",
      " 11  total_onshift_dashers                         181166 non-null  float64       \n",
      " 12  total_busy_dashers                            181166 non-null  float64       \n",
      " 13  total_outstanding_orders                      181166 non-null  float64       \n",
      " 14  estimated_order_place_duration                197428 non-null  int64         \n",
      " 15  estimated_store_to_consumer_driving_duration  196902 non-null  float64       \n",
      "dtypes: datetime64[ns](2), float64(6), int64(7), object(1)\n",
      "memory usage: 24.1+ MB\n"
     ]
    }
   ],
   "source": [
    "data.info()"
   ]
  },
  {
   "cell_type": "code",
   "execution_count": 7,
   "id": "8665bba5-8a15-4dc1-b88d-1b2f722d0ada",
   "metadata": {},
   "outputs": [
    {
     "data": {
      "text/html": [
       "<div>\n",
       "<style scoped>\n",
       "    .dataframe tbody tr th:only-of-type {\n",
       "        vertical-align: middle;\n",
       "    }\n",
       "\n",
       "    .dataframe tbody tr th {\n",
       "        vertical-align: top;\n",
       "    }\n",
       "\n",
       "    .dataframe thead th {\n",
       "        text-align: right;\n",
       "    }\n",
       "</style>\n",
       "<table border=\"1\" class=\"dataframe\">\n",
       "  <thead>\n",
       "    <tr style=\"text-align: right;\">\n",
       "      <th></th>\n",
       "      <th>market_id</th>\n",
       "      <th>created_at</th>\n",
       "      <th>actual_delivery_time</th>\n",
       "      <th>store_id</th>\n",
       "      <th>store_primary_category</th>\n",
       "      <th>order_protocol</th>\n",
       "      <th>total_items</th>\n",
       "      <th>subtotal</th>\n",
       "      <th>num_distinct_items</th>\n",
       "      <th>min_item_price</th>\n",
       "      <th>max_item_price</th>\n",
       "      <th>total_onshift_dashers</th>\n",
       "      <th>total_busy_dashers</th>\n",
       "      <th>total_outstanding_orders</th>\n",
       "      <th>estimated_order_place_duration</th>\n",
       "      <th>estimated_store_to_consumer_driving_duration</th>\n",
       "    </tr>\n",
       "  </thead>\n",
       "  <tbody>\n",
       "    <tr>\n",
       "      <th>0</th>\n",
       "      <td>1.0</td>\n",
       "      <td>2015-02-06 22:24:17</td>\n",
       "      <td>2015-02-06 23:27:16</td>\n",
       "      <td>1845</td>\n",
       "      <td>american</td>\n",
       "      <td>1.0</td>\n",
       "      <td>4</td>\n",
       "      <td>3441</td>\n",
       "      <td>4</td>\n",
       "      <td>557</td>\n",
       "      <td>1239</td>\n",
       "      <td>33.0</td>\n",
       "      <td>14.0</td>\n",
       "      <td>21.0</td>\n",
       "      <td>446</td>\n",
       "      <td>861.0</td>\n",
       "    </tr>\n",
       "    <tr>\n",
       "      <th>1</th>\n",
       "      <td>2.0</td>\n",
       "      <td>2015-02-10 21:49:25</td>\n",
       "      <td>2015-02-10 22:56:29</td>\n",
       "      <td>5477</td>\n",
       "      <td>mexican</td>\n",
       "      <td>2.0</td>\n",
       "      <td>1</td>\n",
       "      <td>1900</td>\n",
       "      <td>1</td>\n",
       "      <td>1400</td>\n",
       "      <td>1400</td>\n",
       "      <td>1.0</td>\n",
       "      <td>2.0</td>\n",
       "      <td>2.0</td>\n",
       "      <td>446</td>\n",
       "      <td>690.0</td>\n",
       "    </tr>\n",
       "    <tr>\n",
       "      <th>2</th>\n",
       "      <td>3.0</td>\n",
       "      <td>2015-01-22 20:39:28</td>\n",
       "      <td>2015-01-22 21:09:09</td>\n",
       "      <td>5477</td>\n",
       "      <td>NaN</td>\n",
       "      <td>1.0</td>\n",
       "      <td>1</td>\n",
       "      <td>1900</td>\n",
       "      <td>1</td>\n",
       "      <td>1900</td>\n",
       "      <td>1900</td>\n",
       "      <td>1.0</td>\n",
       "      <td>0.0</td>\n",
       "      <td>0.0</td>\n",
       "      <td>446</td>\n",
       "      <td>690.0</td>\n",
       "    </tr>\n",
       "    <tr>\n",
       "      <th>3</th>\n",
       "      <td>3.0</td>\n",
       "      <td>2015-02-03 21:21:45</td>\n",
       "      <td>2015-02-03 22:13:00</td>\n",
       "      <td>5477</td>\n",
       "      <td>NaN</td>\n",
       "      <td>1.0</td>\n",
       "      <td>6</td>\n",
       "      <td>6900</td>\n",
       "      <td>5</td>\n",
       "      <td>600</td>\n",
       "      <td>1800</td>\n",
       "      <td>1.0</td>\n",
       "      <td>1.0</td>\n",
       "      <td>2.0</td>\n",
       "      <td>446</td>\n",
       "      <td>289.0</td>\n",
       "    </tr>\n",
       "    <tr>\n",
       "      <th>4</th>\n",
       "      <td>3.0</td>\n",
       "      <td>2015-02-15 02:40:36</td>\n",
       "      <td>2015-02-15 03:20:26</td>\n",
       "      <td>5477</td>\n",
       "      <td>NaN</td>\n",
       "      <td>1.0</td>\n",
       "      <td>3</td>\n",
       "      <td>3900</td>\n",
       "      <td>3</td>\n",
       "      <td>1100</td>\n",
       "      <td>1600</td>\n",
       "      <td>6.0</td>\n",
       "      <td>6.0</td>\n",
       "      <td>9.0</td>\n",
       "      <td>446</td>\n",
       "      <td>650.0</td>\n",
       "    </tr>\n",
       "  </tbody>\n",
       "</table>\n",
       "</div>"
      ],
      "text/plain": [
       "   market_id          created_at actual_delivery_time  store_id  \\\n",
       "0        1.0 2015-02-06 22:24:17  2015-02-06 23:27:16      1845   \n",
       "1        2.0 2015-02-10 21:49:25  2015-02-10 22:56:29      5477   \n",
       "2        3.0 2015-01-22 20:39:28  2015-01-22 21:09:09      5477   \n",
       "3        3.0 2015-02-03 21:21:45  2015-02-03 22:13:00      5477   \n",
       "4        3.0 2015-02-15 02:40:36  2015-02-15 03:20:26      5477   \n",
       "\n",
       "  store_primary_category  order_protocol  total_items  subtotal  \\\n",
       "0               american             1.0            4      3441   \n",
       "1                mexican             2.0            1      1900   \n",
       "2                    NaN             1.0            1      1900   \n",
       "3                    NaN             1.0            6      6900   \n",
       "4                    NaN             1.0            3      3900   \n",
       "\n",
       "   num_distinct_items  min_item_price  max_item_price  total_onshift_dashers  \\\n",
       "0                   4             557            1239                   33.0   \n",
       "1                   1            1400            1400                    1.0   \n",
       "2                   1            1900            1900                    1.0   \n",
       "3                   5             600            1800                    1.0   \n",
       "4                   3            1100            1600                    6.0   \n",
       "\n",
       "   total_busy_dashers  total_outstanding_orders  \\\n",
       "0                14.0                      21.0   \n",
       "1                 2.0                       2.0   \n",
       "2                 0.0                       0.0   \n",
       "3                 1.0                       2.0   \n",
       "4                 6.0                       9.0   \n",
       "\n",
       "   estimated_order_place_duration  \\\n",
       "0                             446   \n",
       "1                             446   \n",
       "2                             446   \n",
       "3                             446   \n",
       "4                             446   \n",
       "\n",
       "   estimated_store_to_consumer_driving_duration  \n",
       "0                                         861.0  \n",
       "1                                         690.0  \n",
       "2                                         690.0  \n",
       "3                                         289.0  \n",
       "4                                         650.0  "
      ]
     },
     "execution_count": 7,
     "metadata": {},
     "output_type": "execute_result"
    }
   ],
   "source": [
    "data.head(5)"
   ]
  },
  {
   "cell_type": "markdown",
   "id": "78f521e0-566c-4a2d-b43d-d2b7dfe031c0",
   "metadata": {},
   "source": [
    " ## Feature Creation "
   ]
  },
  {
   "cell_type": "code",
   "execution_count": 8,
   "id": "ff816778-7bd6-4a40-89af-e83bae30eb8b",
   "metadata": {},
   "outputs": [],
   "source": [
    " #creating the target variable\n",
    "from datetime import datetime \n",
    "data['actual_delivery_duration'] = (data['actual_delivery_time'] - data['created_at'])"
   ]
  },
  {
   "cell_type": "code",
   "execution_count": 9,
   "id": "0cbbe0fb-17f7-4c52-a30a-9be04a27efc8",
   "metadata": {
    "tags": []
   },
   "outputs": [
    {
     "data": {
      "text/plain": [
       "0        0 days 01:02:59\n",
       "1        0 days 01:07:04\n",
       "2        0 days 00:29:41\n",
       "3        0 days 00:51:15\n",
       "4        0 days 00:39:50\n",
       "               ...      \n",
       "197423   0 days 01:05:07\n",
       "197424   0 days 00:56:23\n",
       "197425   0 days 00:50:08\n",
       "197426   0 days 01:05:07\n",
       "197427   0 days 00:37:08\n",
       "Name: actual_delivery_duration, Length: 197428, dtype: timedelta64[ns]"
      ]
     },
     "execution_count": 9,
     "metadata": {},
     "output_type": "execute_result"
    }
   ],
   "source": [
    "data['actual_delivery_duration']"
   ]
  },
  {
   "cell_type": "code",
   "execution_count": 10,
   "id": "ccadfe1f-6381-45bc-83a0-ed0389318b1f",
   "metadata": {},
   "outputs": [],
   "source": [
    "data['actual_delivery_duration'] = data['actual_delivery_duration'].astype('timedelta64[s]')"
   ]
  },
  {
   "cell_type": "code",
   "execution_count": 11,
   "id": "109c383b-b2ad-46d3-b4df-cc79076cbd53",
   "metadata": {},
   "outputs": [],
   "source": [
    "data['busy_dashers_percentage'] = data['total_busy_dashers'] / data['total_onshift_dashers']"
   ]
  },
  {
   "cell_type": "code",
   "execution_count": 12,
   "id": "804d07a7-ac5d-4ea7-9103-dd6bd14e6284",
   "metadata": {},
   "outputs": [],
   "source": [
    "data['available_dashers'] = data['total_onshift_dashers'] - data['total_busy_dashers']"
   ]
  },
  {
   "cell_type": "code",
   "execution_count": 13,
   "id": "745c030a-bcb0-4286-a288-b9b2853345af",
   "metadata": {},
   "outputs": [],
   "source": [
    "data['non_preparation_duration'] = data['estimated_store_to_consumer_driving_duration'] + data['estimated_order_place_duration']"
   ]
  },
  {
   "cell_type": "code",
   "execution_count": 14,
   "id": "029553de-b1bc-45b3-a145-c66bfb08e158",
   "metadata": {},
   "outputs": [
    {
     "data": {
      "text/plain": [
       "0         1.0\n",
       "1         2.0\n",
       "2         3.0\n",
       "3         3.0\n",
       "4         3.0\n",
       "         ... \n",
       "197423    1.0\n",
       "197424    1.0\n",
       "197425    1.0\n",
       "197426    1.0\n",
       "197427    1.0\n",
       "Name: market_id, Length: 197428, dtype: float64"
      ]
     },
     "execution_count": 14,
     "metadata": {},
     "output_type": "execute_result"
    }
   ],
   "source": [
    "data['market_id']"
   ]
  },
  {
   "cell_type": "code",
   "execution_count": 16,
   "id": "953ea287-ea4d-40e6-ad36-26aa3543fe21",
   "metadata": {},
   "outputs": [],
   "source": [
    "order_protocol_dummies = pd.get_dummies(data.order_protocol)\n",
    "order_protocol_dummies = order_protocol_dummies.add_prefix('order_protocol_')"
   ]
  },
  {
   "cell_type": "code",
   "execution_count": 17,
   "id": "b61f2f5b-1c6a-4dfc-8be5-8cbb2e7955a9",
   "metadata": {},
   "outputs": [],
   "source": [
    "market_id_dummies = pd.get_dummies(data.market_id)\n",
    "market_id_dummies = market_id_dummies.add_prefix('market_id_')"
   ]
  },
  {
   "cell_type": "code",
   "execution_count": 18,
   "id": "d9fb4591-7351-49a4-97df-7c659e5b1958",
   "metadata": {},
   "outputs": [],
   "source": [
    "#imputing missing store_id values with the most frequently occuring ones \n",
    "#we start by mapping store_ids to the primary category feature since we have too many unique store ids\n",
    "unique_store_ids = data['store_id'].unique().tolist()\n",
    "store_id_category_mappings = {store_id : data[data.store_id == store_id].store_primary_category.mode() \n",
    "                              for store_id in unique_store_ids}"
   ]
  },
  {
   "cell_type": "code",
   "execution_count": 19,
   "id": "781a9d7d-028d-43e7-a705-ce9143d7208a",
   "metadata": {},
   "outputs": [],
   "source": [
    "#we create a function to impute NAN values with the most frequent category values \n",
    "def fill(store_id):\n",
    "    try:\n",
    "        return store_id_category_mappings[store_id].values[0]\n",
    "    except:\n",
    "        return np.nan \n",
    "data['nan_free_store_primary_category'] = data.store_id.apply(fill)"
   ]
  },
  {
   "cell_type": "code",
   "execution_count": 26,
   "id": "4070b437-cff7-4433-912d-1c82262edb02",
   "metadata": {},
   "outputs": [
    {
     "data": {
      "text/plain": [
       "'american'"
      ]
     },
     "execution_count": 26,
     "metadata": {},
     "output_type": "execute_result"
    }
   ],
   "source": [
    "store_id = data['store_id'].iloc[0]\n",
    "store_id_category_mappings[store_id].values[0]"
   ]
  },
  {
   "cell_type": "code",
   "execution_count": 27,
   "id": "c19ddb6b-74b2-495e-ae38-77535547652c",
   "metadata": {},
   "outputs": [],
   "source": [
    "store_primary_category_dummies = pd.get_dummies(data.nan_free_store_primary_category)\n",
    "store_primary_category_dummies = store_primary_category_dummies.add_prefix('category')"
   ]
  },
  {
   "cell_type": "code",
   "execution_count": 28,
   "id": "327bb526-6cb7-4f17-a5f7-d1b0b73d440f",
   "metadata": {},
   "outputs": [],
   "source": [
    "train_df = data.drop(columns=[\n",
    "    'created_at','market_id','store_id','store_primary_category','actual_delivery_time','nan_free_store_primary_category','order_protocol',\n",
    "])"
   ]
  },
  {
   "cell_type": "code",
   "execution_count": 29,
   "id": "e368ac40-8680-49b0-8889-41134a131f1a",
   "metadata": {},
   "outputs": [
    {
     "data": {
      "text/plain": [
       "Index(['total_items', 'subtotal', 'num_distinct_items', 'min_item_price',\n",
       "       'max_item_price', 'total_onshift_dashers', 'total_busy_dashers',\n",
       "       'total_outstanding_orders', 'estimated_order_place_duration',\n",
       "       'estimated_store_to_consumer_driving_duration',\n",
       "       'actual_delivery_duration', 'busy_dashers_percentage',\n",
       "       'available_dashers', 'non_preparation_duration'],\n",
       "      dtype='object')"
      ]
     },
     "execution_count": 29,
     "metadata": {},
     "output_type": "execute_result"
    }
   ],
   "source": [
    "train_df.columns"
   ]
  },
  {
   "cell_type": "code",
   "execution_count": 31,
   "id": "c7ba4582-3848-4644-9612-b2aecea5bf9b",
   "metadata": {},
   "outputs": [],
   "source": [
    "train_df = pd.concat([train_df,order_protocol_dummies,market_id_dummies,store_primary_category_dummies],axis=1)"
   ]
  },
  {
   "cell_type": "code",
   "execution_count": 32,
   "id": "87ab5360-9aeb-4a37-ac9b-40251ee4a959",
   "metadata": {},
   "outputs": [
    {
     "data": {
      "text/plain": [
       "Index(['total_items', 'subtotal', 'num_distinct_items', 'min_item_price',\n",
       "       'max_item_price', 'total_onshift_dashers', 'total_busy_dashers',\n",
       "       'total_outstanding_orders', 'estimated_order_place_duration',\n",
       "       'estimated_store_to_consumer_driving_duration',\n",
       "       ...\n",
       "       'categorysouthern', 'categoryspanish', 'categorysteak', 'categorysushi',\n",
       "       'categorytapas', 'categorythai', 'categoryturkish', 'categoryvegan',\n",
       "       'categoryvegetarian', 'categoryvietnamese'],\n",
       "      dtype='object', length=101)"
      ]
     },
     "execution_count": 32,
     "metadata": {},
     "output_type": "execute_result"
    }
   ],
   "source": [
    "train_df.columns"
   ]
  },
  {
   "cell_type": "code",
   "execution_count": 33,
   "id": "522bc8bf-8705-4918-bf54-4aee516289ca",
   "metadata": {},
   "outputs": [],
   "source": [
    "train_df = train_df.astype('float32')"
   ]
  },
  {
   "cell_type": "code",
   "execution_count": 34,
   "id": "0e39ee42-da5d-481b-80b4-07d19b4ade0e",
   "metadata": {},
   "outputs": [
    {
     "data": {
      "text/html": [
       "<div>\n",
       "<style scoped>\n",
       "    .dataframe tbody tr th:only-of-type {\n",
       "        vertical-align: middle;\n",
       "    }\n",
       "\n",
       "    .dataframe tbody tr th {\n",
       "        vertical-align: top;\n",
       "    }\n",
       "\n",
       "    .dataframe thead th {\n",
       "        text-align: right;\n",
       "    }\n",
       "</style>\n",
       "<table border=\"1\" class=\"dataframe\">\n",
       "  <thead>\n",
       "    <tr style=\"text-align: right;\">\n",
       "      <th></th>\n",
       "      <th>total_items</th>\n",
       "      <th>subtotal</th>\n",
       "      <th>num_distinct_items</th>\n",
       "      <th>min_item_price</th>\n",
       "      <th>max_item_price</th>\n",
       "      <th>total_onshift_dashers</th>\n",
       "      <th>total_busy_dashers</th>\n",
       "      <th>total_outstanding_orders</th>\n",
       "      <th>estimated_order_place_duration</th>\n",
       "      <th>estimated_store_to_consumer_driving_duration</th>\n",
       "      <th>...</th>\n",
       "      <th>categorysouthern</th>\n",
       "      <th>categoryspanish</th>\n",
       "      <th>categorysteak</th>\n",
       "      <th>categorysushi</th>\n",
       "      <th>categorytapas</th>\n",
       "      <th>categorythai</th>\n",
       "      <th>categoryturkish</th>\n",
       "      <th>categoryvegan</th>\n",
       "      <th>categoryvegetarian</th>\n",
       "      <th>categoryvietnamese</th>\n",
       "    </tr>\n",
       "  </thead>\n",
       "  <tbody>\n",
       "    <tr>\n",
       "      <th>0</th>\n",
       "      <td>4.0</td>\n",
       "      <td>3441.0</td>\n",
       "      <td>4.0</td>\n",
       "      <td>557.0</td>\n",
       "      <td>1239.0</td>\n",
       "      <td>33.0</td>\n",
       "      <td>14.0</td>\n",
       "      <td>21.0</td>\n",
       "      <td>446.0</td>\n",
       "      <td>861.0</td>\n",
       "      <td>...</td>\n",
       "      <td>0.0</td>\n",
       "      <td>0.0</td>\n",
       "      <td>0.0</td>\n",
       "      <td>0.0</td>\n",
       "      <td>0.0</td>\n",
       "      <td>0.0</td>\n",
       "      <td>0.0</td>\n",
       "      <td>0.0</td>\n",
       "      <td>0.0</td>\n",
       "      <td>0.0</td>\n",
       "    </tr>\n",
       "    <tr>\n",
       "      <th>1</th>\n",
       "      <td>1.0</td>\n",
       "      <td>1900.0</td>\n",
       "      <td>1.0</td>\n",
       "      <td>1400.0</td>\n",
       "      <td>1400.0</td>\n",
       "      <td>1.0</td>\n",
       "      <td>2.0</td>\n",
       "      <td>2.0</td>\n",
       "      <td>446.0</td>\n",
       "      <td>690.0</td>\n",
       "      <td>...</td>\n",
       "      <td>0.0</td>\n",
       "      <td>0.0</td>\n",
       "      <td>0.0</td>\n",
       "      <td>0.0</td>\n",
       "      <td>0.0</td>\n",
       "      <td>0.0</td>\n",
       "      <td>0.0</td>\n",
       "      <td>0.0</td>\n",
       "      <td>0.0</td>\n",
       "      <td>0.0</td>\n",
       "    </tr>\n",
       "    <tr>\n",
       "      <th>2</th>\n",
       "      <td>1.0</td>\n",
       "      <td>1900.0</td>\n",
       "      <td>1.0</td>\n",
       "      <td>1900.0</td>\n",
       "      <td>1900.0</td>\n",
       "      <td>1.0</td>\n",
       "      <td>0.0</td>\n",
       "      <td>0.0</td>\n",
       "      <td>446.0</td>\n",
       "      <td>690.0</td>\n",
       "      <td>...</td>\n",
       "      <td>0.0</td>\n",
       "      <td>0.0</td>\n",
       "      <td>0.0</td>\n",
       "      <td>0.0</td>\n",
       "      <td>0.0</td>\n",
       "      <td>0.0</td>\n",
       "      <td>0.0</td>\n",
       "      <td>0.0</td>\n",
       "      <td>0.0</td>\n",
       "      <td>0.0</td>\n",
       "    </tr>\n",
       "    <tr>\n",
       "      <th>3</th>\n",
       "      <td>6.0</td>\n",
       "      <td>6900.0</td>\n",
       "      <td>5.0</td>\n",
       "      <td>600.0</td>\n",
       "      <td>1800.0</td>\n",
       "      <td>1.0</td>\n",
       "      <td>1.0</td>\n",
       "      <td>2.0</td>\n",
       "      <td>446.0</td>\n",
       "      <td>289.0</td>\n",
       "      <td>...</td>\n",
       "      <td>0.0</td>\n",
       "      <td>0.0</td>\n",
       "      <td>0.0</td>\n",
       "      <td>0.0</td>\n",
       "      <td>0.0</td>\n",
       "      <td>0.0</td>\n",
       "      <td>0.0</td>\n",
       "      <td>0.0</td>\n",
       "      <td>0.0</td>\n",
       "      <td>0.0</td>\n",
       "    </tr>\n",
       "    <tr>\n",
       "      <th>4</th>\n",
       "      <td>3.0</td>\n",
       "      <td>3900.0</td>\n",
       "      <td>3.0</td>\n",
       "      <td>1100.0</td>\n",
       "      <td>1600.0</td>\n",
       "      <td>6.0</td>\n",
       "      <td>6.0</td>\n",
       "      <td>9.0</td>\n",
       "      <td>446.0</td>\n",
       "      <td>650.0</td>\n",
       "      <td>...</td>\n",
       "      <td>0.0</td>\n",
       "      <td>0.0</td>\n",
       "      <td>0.0</td>\n",
       "      <td>0.0</td>\n",
       "      <td>0.0</td>\n",
       "      <td>0.0</td>\n",
       "      <td>0.0</td>\n",
       "      <td>0.0</td>\n",
       "      <td>0.0</td>\n",
       "      <td>0.0</td>\n",
       "    </tr>\n",
       "  </tbody>\n",
       "</table>\n",
       "<p>5 rows × 101 columns</p>\n",
       "</div>"
      ],
      "text/plain": [
       "   total_items  subtotal  num_distinct_items  min_item_price  max_item_price  \\\n",
       "0          4.0    3441.0                 4.0           557.0          1239.0   \n",
       "1          1.0    1900.0                 1.0          1400.0          1400.0   \n",
       "2          1.0    1900.0                 1.0          1900.0          1900.0   \n",
       "3          6.0    6900.0                 5.0           600.0          1800.0   \n",
       "4          3.0    3900.0                 3.0          1100.0          1600.0   \n",
       "\n",
       "   total_onshift_dashers  total_busy_dashers  total_outstanding_orders  \\\n",
       "0                   33.0                14.0                      21.0   \n",
       "1                    1.0                 2.0                       2.0   \n",
       "2                    1.0                 0.0                       0.0   \n",
       "3                    1.0                 1.0                       2.0   \n",
       "4                    6.0                 6.0                       9.0   \n",
       "\n",
       "   estimated_order_place_duration  \\\n",
       "0                           446.0   \n",
       "1                           446.0   \n",
       "2                           446.0   \n",
       "3                           446.0   \n",
       "4                           446.0   \n",
       "\n",
       "   estimated_store_to_consumer_driving_duration  ...  categorysouthern  \\\n",
       "0                                         861.0  ...               0.0   \n",
       "1                                         690.0  ...               0.0   \n",
       "2                                         690.0  ...               0.0   \n",
       "3                                         289.0  ...               0.0   \n",
       "4                                         650.0  ...               0.0   \n",
       "\n",
       "   categoryspanish  categorysteak  categorysushi  categorytapas  categorythai  \\\n",
       "0              0.0            0.0            0.0            0.0           0.0   \n",
       "1              0.0            0.0            0.0            0.0           0.0   \n",
       "2              0.0            0.0            0.0            0.0           0.0   \n",
       "3              0.0            0.0            0.0            0.0           0.0   \n",
       "4              0.0            0.0            0.0            0.0           0.0   \n",
       "\n",
       "   categoryturkish  categoryvegan  categoryvegetarian  categoryvietnamese  \n",
       "0              0.0            0.0                 0.0                 0.0  \n",
       "1              0.0            0.0                 0.0                 0.0  \n",
       "2              0.0            0.0                 0.0                 0.0  \n",
       "3              0.0            0.0                 0.0                 0.0  \n",
       "4              0.0            0.0                 0.0                 0.0  \n",
       "\n",
       "[5 rows x 101 columns]"
      ]
     },
     "execution_count": 34,
     "metadata": {},
     "output_type": "execute_result"
    }
   ],
   "source": [
    "train_df.head(5)"
   ]
  },
  {
   "cell_type": "code",
   "execution_count": 35,
   "id": "d58d58e0-5dd9-4a58-be78-2f062f734277",
   "metadata": {},
   "outputs": [
    {
     "data": {
      "text/plain": [
       "(array([ 5,  6,  7,  9, 10, 11, 12, 13], dtype=int64),)"
      ]
     },
     "execution_count": 35,
     "metadata": {},
     "output_type": "execute_result"
    }
   ],
   "source": [
    "np.where(np.any(~np.isfinite(train_df),axis=0) ==True)"
   ]
  },
  {
   "cell_type": "code",
   "execution_count": 36,
   "id": "824ecadd-1df2-4bdf-bacb-d0e81fc4704b",
   "metadata": {},
   "outputs": [],
   "source": [
    "train_df.replace([np.inf,-np.inf],np.nan,inplace=True)\n",
    "train_df.dropna(inplace=True)"
   ]
  },
  {
   "cell_type": "code",
   "execution_count": 37,
   "id": "b55714c2-78f7-49cb-8c0c-8ef13e7fb111",
   "metadata": {},
   "outputs": [
    {
     "data": {
      "text/plain": [
       "(177070, 101)"
      ]
     },
     "execution_count": 37,
     "metadata": {},
     "output_type": "execute_result"
    }
   ],
   "source": [
    "train_df.shape"
   ]
  },
  {
   "cell_type": "code",
   "execution_count": 39,
   "id": "46bbcffb-82bc-4b7a-9809-b7c08761d9f7",
   "metadata": {},
   "outputs": [
    {
     "data": {
      "text/plain": [
       "<AxesSubplot:>"
      ]
     },
     "execution_count": 39,
     "metadata": {},
     "output_type": "execute_result"
    },
    {
     "data": {
      "image/png": "[encoded data removed]",
      "text/plain": [
       "<Figure size 792x648 with 2 Axes>"
      ]
     },
     "metadata": {
      "needs_background": "light"
     },
     "output_type": "display_data"
    }
   ],
   "source": [
    "corr = train_df.corr()\n",
    "mask = np.triu(np.ones_like(corr,dtype=bool))\n",
    "f, ax = plt.subplots(figsize=(11,9))\n",
    "cmap = sns.diverging_palette(230, 23, as_cmap=True)\n",
    "sns.heatmap(corr, mask=mask, cmap=cmap, vmax=.3, center=0,\n",
    "            square=True, linewidth=.5, cbar_kws={'shrink':.5}\n",
    "           )\n",
    "\n"
   ]
  },
  {
   "cell_type": "code",
   "execution_count": 41,
   "id": "a31a535f-6572-4479-845a-8f50d1e61f2d",
   "metadata": {},
   "outputs": [
    {
     "data": {
      "text/plain": [
       "count    177070.0\n",
       "mean          0.0\n",
       "std           0.0\n",
       "min           0.0\n",
       "25%           0.0\n",
       "50%           0.0\n",
       "75%           0.0\n",
       "max           0.0\n",
       "Name: categoryindonesian, dtype: float64"
      ]
     },
     "execution_count": 41,
     "metadata": {},
     "output_type": "execute_result"
    }
   ],
   "source": [
    "train_df['categoryindonesian'].describe()"
   ]
  },
  {
   "cell_type": "code",
   "execution_count": 53,
   "id": "d4794cf9-509e-498c-a85b-acbafb218bb4",
   "metadata": {},
   "outputs": [],
   "source": [
    "def find_redundant_pairs(df):\n",
    "    \"\"\"find diagonal and lower triangular pairs of the correlation matrix\"\"\"\n",
    "    pairs_to_drop = set()\n",
    "    columns = df.columns\n",
    "    for i in range(len(columns)):\n",
    "        for j in range(0,i+1):\n",
    "            pairs_to_drop.add((columns[i],columns[j]))\n",
    "    return pairs_to_drop\n",
    "            "
   ]
  },
  {
   "cell_type": "code",
   "execution_count": 54,
   "id": "0e4c9844-a88f-4b3a-b58c-3c01a5e88bb4",
   "metadata": {},
   "outputs": [],
   "source": [
    "def get_top_correlations(df,n=5):\n",
    "    abs_corr = df.corr().abs().unstack()\n",
    "    labels_to_drop = find_redundant_pairs(df)\n",
    "    abs_corr = abs_corr.drop(labels=labels_to_drop).sort_values(ascending=False) \n",
    "    return abs_corr[:n]"
   ]
  },
  {
   "cell_type": "code",
   "execution_count": 80,
   "id": "641e6e07-dde5-430c-9af8-201b3aba1c04",
   "metadata": {
    "collapsed": true,
    "jupyter": {
     "outputs_hidden": true
    },
    "tags": []
   },
   "outputs": [
    {
     "name": "stdout",
     "output_type": "stream",
     "text": [
      "estimated_order_place_duration  order_protocol_1.0    0.897649\n",
      "total_items                     num_distinct_items    0.758153\n",
      "subtotal                        num_distinct_items    0.682892\n",
      "total_items                     subtotal              0.557181\n",
      "min_item_price                  max_item_price        0.541239\n",
      "subtotal                        max_item_price        0.507949\n",
      "busy_dashers_percentage         available_dashers     0.502969\n",
      "order_protocol_4.0              categoryfast          0.489986\n",
      "num_distinct_items              min_item_price        0.446735\n",
      "total_items                     min_item_price        0.389280\n",
      "order_protocol_1.0              order_protocol_3.0    0.373582\n",
      "estimated_order_place_duration  order_protocol_3.0    0.364171\n",
      "order_protocol_1.0              order_protocol_5.0    0.342341\n",
      "estimated_order_place_duration  order_protocol_5.0    0.333288\n",
      "order_protocol_3.0              order_protocol_5.0    0.332530\n",
      "order_protocol_1.0              order_protocol_2.0    0.226904\n",
      "estimated_order_place_duration  order_protocol_2.0    0.221216\n",
      "order_protocol_2.0              order_protocol_3.0    0.220401\n",
      "max_item_price                  order_protocol_4.0    0.215635\n",
      "order_protocol_1.0              order_protocol_4.0    0.202153\n",
      "dtype: float64\n"
     ]
    }
   ],
   "source": [
    "print(get_top_correlations(train_df,20))"
   ]
  },
  {
   "cell_type": "code",
   "execution_count": 56,
   "id": "616eb8ff-2d49-40b2-8994-2945c176acf3",
   "metadata": {},
   "outputs": [],
   "source": [
    "train_df = data.drop(columns=['created_at','market_id','store_id','store_primary_category','actual_delivery_duration',\n",
    "                             'nan_free_store_primary_category','order_protocol'])\n",
    "                    "
   ]
  },
  {
   "cell_type": "code",
   "execution_count": 57,
   "id": "799e37a7-7978-4210-a1c9-8221af9267e0",
   "metadata": {},
   "outputs": [],
   "source": [
    "train_df = pd.concat([train_df,order_protocol_dummies,store_primary_category_dummies],axis=1)"
   ]
  },
  {
   "cell_type": "code",
   "execution_count": 60,
   "id": "c0d421e7-b6b9-46ae-bbc2-123e9755ec10",
   "metadata": {},
   "outputs": [],
   "source": [
    "train_df = train_df.drop(columns=['total_onshift_dashers','total_busy_dashers',\n",
    "                                  'categoryindonesian','non_preparation_duration',]\n",
    "                        )"
   ]
  },
  {
   "cell_type": "code",
   "execution_count": 76,
   "id": "b243e3d1-89e5-4858-ada9-ffd3471644a8",
   "metadata": {},
   "outputs": [],
   "source": [
    "train_df = train_df.drop(columns=['actual_delivery_time'])"
   ]
  },
  {
   "cell_type": "code",
   "execution_count": 77,
   "id": "b703244e-a35b-456f-a871-9760beb03c1f",
   "metadata": {},
   "outputs": [],
   "source": [
    "train_df = train_df.astype('float32')\n",
    "train_df.replace([np.inf,-np.inf],np.nan,inplace=True)"
   ]
  },
  {
   "cell_type": "code",
   "execution_count": 79,
   "id": "896fd6ea-f4d9-48ae-95c5-7ae4db97feb3",
   "metadata": {},
   "outputs": [
    {
     "data": {
      "text/html": [
       "<div>\n",
       "<style scoped>\n",
       "    .dataframe tbody tr th:only-of-type {\n",
       "        vertical-align: middle;\n",
       "    }\n",
       "\n",
       "    .dataframe tbody tr th {\n",
       "        vertical-align: top;\n",
       "    }\n",
       "\n",
       "    .dataframe thead th {\n",
       "        text-align: right;\n",
       "    }\n",
       "</style>\n",
       "<table border=\"1\" class=\"dataframe\">\n",
       "  <thead>\n",
       "    <tr style=\"text-align: right;\">\n",
       "      <th></th>\n",
       "      <th>total_items</th>\n",
       "      <th>subtotal</th>\n",
       "      <th>num_distinct_items</th>\n",
       "      <th>min_item_price</th>\n",
       "      <th>max_item_price</th>\n",
       "      <th>total_outstanding_orders</th>\n",
       "      <th>estimated_order_place_duration</th>\n",
       "      <th>estimated_store_to_consumer_driving_duration</th>\n",
       "      <th>busy_dashers_percentage</th>\n",
       "      <th>available_dashers</th>\n",
       "      <th>...</th>\n",
       "      <th>categorysouthern</th>\n",
       "      <th>categoryspanish</th>\n",
       "      <th>categorysteak</th>\n",
       "      <th>categorysushi</th>\n",
       "      <th>categorytapas</th>\n",
       "      <th>categorythai</th>\n",
       "      <th>categoryturkish</th>\n",
       "      <th>categoryvegan</th>\n",
       "      <th>categoryvegetarian</th>\n",
       "      <th>categoryvietnamese</th>\n",
       "    </tr>\n",
       "  </thead>\n",
       "  <tbody>\n",
       "    <tr>\n",
       "      <th>0</th>\n",
       "      <td>4.0</td>\n",
       "      <td>3441.0</td>\n",
       "      <td>4.0</td>\n",
       "      <td>557.0</td>\n",
       "      <td>1239.0</td>\n",
       "      <td>21.0</td>\n",
       "      <td>446.0</td>\n",
       "      <td>861.0</td>\n",
       "      <td>0.424242</td>\n",
       "      <td>19.0</td>\n",
       "      <td>...</td>\n",
       "      <td>0.0</td>\n",
       "      <td>0.0</td>\n",
       "      <td>0.0</td>\n",
       "      <td>0.0</td>\n",
       "      <td>0.0</td>\n",
       "      <td>0.0</td>\n",
       "      <td>0.0</td>\n",
       "      <td>0.0</td>\n",
       "      <td>0.0</td>\n",
       "      <td>0.0</td>\n",
       "    </tr>\n",
       "    <tr>\n",
       "      <th>1</th>\n",
       "      <td>1.0</td>\n",
       "      <td>1900.0</td>\n",
       "      <td>1.0</td>\n",
       "      <td>1400.0</td>\n",
       "      <td>1400.0</td>\n",
       "      <td>2.0</td>\n",
       "      <td>446.0</td>\n",
       "      <td>690.0</td>\n",
       "      <td>2.000000</td>\n",
       "      <td>-1.0</td>\n",
       "      <td>...</td>\n",
       "      <td>0.0</td>\n",
       "      <td>0.0</td>\n",
       "      <td>0.0</td>\n",
       "      <td>0.0</td>\n",
       "      <td>0.0</td>\n",
       "      <td>0.0</td>\n",
       "      <td>0.0</td>\n",
       "      <td>0.0</td>\n",
       "      <td>0.0</td>\n",
       "      <td>0.0</td>\n",
       "    </tr>\n",
       "    <tr>\n",
       "      <th>2</th>\n",
       "      <td>1.0</td>\n",
       "      <td>1900.0</td>\n",
       "      <td>1.0</td>\n",
       "      <td>1900.0</td>\n",
       "      <td>1900.0</td>\n",
       "      <td>0.0</td>\n",
       "      <td>446.0</td>\n",
       "      <td>690.0</td>\n",
       "      <td>0.000000</td>\n",
       "      <td>1.0</td>\n",
       "      <td>...</td>\n",
       "      <td>0.0</td>\n",
       "      <td>0.0</td>\n",
       "      <td>0.0</td>\n",
       "      <td>0.0</td>\n",
       "      <td>0.0</td>\n",
       "      <td>0.0</td>\n",
       "      <td>0.0</td>\n",
       "      <td>0.0</td>\n",
       "      <td>0.0</td>\n",
       "      <td>0.0</td>\n",
       "    </tr>\n",
       "    <tr>\n",
       "      <th>3</th>\n",
       "      <td>6.0</td>\n",
       "      <td>6900.0</td>\n",
       "      <td>5.0</td>\n",
       "      <td>600.0</td>\n",
       "      <td>1800.0</td>\n",
       "      <td>2.0</td>\n",
       "      <td>446.0</td>\n",
       "      <td>289.0</td>\n",
       "      <td>1.000000</td>\n",
       "      <td>0.0</td>\n",
       "      <td>...</td>\n",
       "      <td>0.0</td>\n",
       "      <td>0.0</td>\n",
       "      <td>0.0</td>\n",
       "      <td>0.0</td>\n",
       "      <td>0.0</td>\n",
       "      <td>0.0</td>\n",
       "      <td>0.0</td>\n",
       "      <td>0.0</td>\n",
       "      <td>0.0</td>\n",
       "      <td>0.0</td>\n",
       "    </tr>\n",
       "    <tr>\n",
       "      <th>4</th>\n",
       "      <td>3.0</td>\n",
       "      <td>3900.0</td>\n",
       "      <td>3.0</td>\n",
       "      <td>1100.0</td>\n",
       "      <td>1600.0</td>\n",
       "      <td>9.0</td>\n",
       "      <td>446.0</td>\n",
       "      <td>650.0</td>\n",
       "      <td>1.000000</td>\n",
       "      <td>0.0</td>\n",
       "      <td>...</td>\n",
       "      <td>0.0</td>\n",
       "      <td>0.0</td>\n",
       "      <td>0.0</td>\n",
       "      <td>0.0</td>\n",
       "      <td>0.0</td>\n",
       "      <td>0.0</td>\n",
       "      <td>0.0</td>\n",
       "      <td>0.0</td>\n",
       "      <td>0.0</td>\n",
       "      <td>0.0</td>\n",
       "    </tr>\n",
       "  </tbody>\n",
       "</table>\n",
       "<p>5 rows × 90 columns</p>\n",
       "</div>"
      ],
      "text/plain": [
       "   total_items  subtotal  num_distinct_items  min_item_price  max_item_price  \\\n",
       "0          4.0    3441.0                 4.0           557.0          1239.0   \n",
       "1          1.0    1900.0                 1.0          1400.0          1400.0   \n",
       "2          1.0    1900.0                 1.0          1900.0          1900.0   \n",
       "3          6.0    6900.0                 5.0           600.0          1800.0   \n",
       "4          3.0    3900.0                 3.0          1100.0          1600.0   \n",
       "\n",
       "   total_outstanding_orders  estimated_order_place_duration  \\\n",
       "0                      21.0                           446.0   \n",
       "1                       2.0                           446.0   \n",
       "2                       0.0                           446.0   \n",
       "3                       2.0                           446.0   \n",
       "4                       9.0                           446.0   \n",
       "\n",
       "   estimated_store_to_consumer_driving_duration  busy_dashers_percentage  \\\n",
       "0                                         861.0                 0.424242   \n",
       "1                                         690.0                 2.000000   \n",
       "2                                         690.0                 0.000000   \n",
       "3                                         289.0                 1.000000   \n",
       "4                                         650.0                 1.000000   \n",
       "\n",
       "   available_dashers  ...  categorysouthern  categoryspanish  categorysteak  \\\n",
       "0               19.0  ...               0.0              0.0            0.0   \n",
       "1               -1.0  ...               0.0              0.0            0.0   \n",
       "2                1.0  ...               0.0              0.0            0.0   \n",
       "3                0.0  ...               0.0              0.0            0.0   \n",
       "4                0.0  ...               0.0              0.0            0.0   \n",
       "\n",
       "   categorysushi  categorytapas  categorythai  categoryturkish  categoryvegan  \\\n",
       "0            0.0            0.0           0.0              0.0            0.0   \n",
       "1            0.0            0.0           0.0              0.0            0.0   \n",
       "2            0.0            0.0           0.0              0.0            0.0   \n",
       "3            0.0            0.0           0.0              0.0            0.0   \n",
       "4            0.0            0.0           0.0              0.0            0.0   \n",
       "\n",
       "   categoryvegetarian  categoryvietnamese  \n",
       "0                 0.0                 0.0  \n",
       "1                 0.0                 0.0  \n",
       "2                 0.0                 0.0  \n",
       "3                 0.0                 0.0  \n",
       "4                 0.0                 0.0  \n",
       "\n",
       "[5 rows x 90 columns]"
      ]
     },
     "execution_count": 79,
     "metadata": {},
     "output_type": "execute_result"
    }
   ],
   "source": [
    "train_df.dropna(inplace=True)\n",
    "train_df.head()"
   ]
  },
  {
   "cell_type": "code",
   "execution_count": 81,
   "id": "4ff6f308-abe6-4d40-a4f1-dc52e81fbc63",
   "metadata": {},
   "outputs": [
    {
     "name": "stdout",
     "output_type": "stream",
     "text": [
      "estimated_order_place_duration  order_protocol_1.0    0.897649\n",
      "total_items                     num_distinct_items    0.758153\n",
      "subtotal                        num_distinct_items    0.682892\n",
      "total_items                     subtotal              0.557181\n",
      "min_item_price                  max_item_price        0.541239\n",
      "subtotal                        max_item_price        0.507949\n",
      "busy_dashers_percentage         available_dashers     0.502969\n",
      "order_protocol_4.0              categoryfast          0.489986\n",
      "num_distinct_items              min_item_price        0.446735\n",
      "total_items                     min_item_price        0.389280\n",
      "order_protocol_1.0              order_protocol_3.0    0.373582\n",
      "estimated_order_place_duration  order_protocol_3.0    0.364171\n",
      "order_protocol_1.0              order_protocol_5.0    0.342341\n",
      "estimated_order_place_duration  order_protocol_5.0    0.333288\n",
      "order_protocol_3.0              order_protocol_5.0    0.332530\n",
      "order_protocol_1.0              order_protocol_2.0    0.226904\n",
      "estimated_order_place_duration  order_protocol_2.0    0.221216\n",
      "order_protocol_2.0              order_protocol_3.0    0.220401\n",
      "max_item_price                  order_protocol_4.0    0.215635\n",
      "order_protocol_1.0              order_protocol_4.0    0.202153\n",
      "dtype: float64\n"
     ]
    }
   ],
   "source": [
    "print(get_top_correlations(train_df,20))"
   ]
  },
  {
   "cell_type": "code",
   "execution_count": 109,
   "id": "bd98db7d-f398-4258-b436-2749bbf4bbc2",
   "metadata": {},
   "outputs": [
    {
     "ename": "KeyError",
     "evalue": "\"['actual_delivery_time'] not found in axis\"",
     "output_type": "error",
     "traceback": [
      "\u001b[1;31m---------------------------------------------------------------------------\u001b[0m",
      "\u001b[1;31mKeyError\u001b[0m                                  Traceback (most recent call last)",
      "\u001b[1;32m~\\AppData\\Local\\Temp\\ipykernel_19916\\3325251271.py\u001b[0m in \u001b[0;36m<module>\u001b[1;34m\u001b[0m\n\u001b[0;32m      3\u001b[0m \u001b[1;33m\u001b[0m\u001b[0m\n\u001b[0;32m      4\u001b[0m \u001b[0mtrain_df\u001b[0m \u001b[1;33m=\u001b[0m \u001b[0mpd\u001b[0m\u001b[1;33m.\u001b[0m\u001b[0mconcat\u001b[0m\u001b[1;33m(\u001b[0m\u001b[1;33m[\u001b[0m\u001b[0mtrain_df\u001b[0m\u001b[1;33m,\u001b[0m\u001b[0mstore_primary_category_dummies\u001b[0m\u001b[1;33m]\u001b[0m\u001b[1;33m,\u001b[0m\u001b[0maxis\u001b[0m\u001b[1;33m=\u001b[0m\u001b[1;36m1\u001b[0m\u001b[1;33m)\u001b[0m\u001b[1;33m\u001b[0m\u001b[1;33m\u001b[0m\u001b[0m\n\u001b[1;32m----> 5\u001b[1;33m train_df = train_df.drop(columns=['total_onshift_dashers','total_busy_dashers',\n\u001b[0m\u001b[0;32m      6\u001b[0m                                   'categoryindonesian','actual_delivery_time','non_preparation_duration',]\n\u001b[0;32m      7\u001b[0m                         )\n",
      "\u001b[1;32m~\\.conda\\envs\\torch\\lib\\site-packages\\pandas\\util\\_decorators.py\u001b[0m in \u001b[0;36mwrapper\u001b[1;34m(*args, **kwargs)\u001b[0m\n\u001b[0;32m    309\u001b[0m                     \u001b[0mstacklevel\u001b[0m\u001b[1;33m=\u001b[0m\u001b[0mstacklevel\u001b[0m\u001b[1;33m,\u001b[0m\u001b[1;33m\u001b[0m\u001b[1;33m\u001b[0m\u001b[0m\n\u001b[0;32m    310\u001b[0m                 )\n\u001b[1;32m--> 311\u001b[1;33m             \u001b[1;32mreturn\u001b[0m \u001b[0mfunc\u001b[0m\u001b[1;33m(\u001b[0m\u001b[1;33m*\u001b[0m\u001b[0margs\u001b[0m\u001b[1;33m,\u001b[0m \u001b[1;33m**\u001b[0m\u001b[0mkwargs\u001b[0m\u001b[1;33m)\u001b[0m\u001b[1;33m\u001b[0m\u001b[1;33m\u001b[0m\u001b[0m\n\u001b[0m\u001b[0;32m    312\u001b[0m \u001b[1;33m\u001b[0m\u001b[0m\n\u001b[0;32m    313\u001b[0m         \u001b[1;32mreturn\u001b[0m \u001b[0mwrapper\u001b[0m\u001b[1;33m\u001b[0m\u001b[1;33m\u001b[0m\u001b[0m\n",
      "\u001b[1;32m~\\.conda\\envs\\torch\\lib\\site-packages\\pandas\\core\\frame.py\u001b[0m in \u001b[0;36mdrop\u001b[1;34m(self, labels, axis, index, columns, level, inplace, errors)\u001b[0m\n\u001b[0;32m   4904\u001b[0m                 \u001b[0mweight\u001b[0m  \u001b[1;36m1.0\u001b[0m     \u001b[1;36m0.8\u001b[0m\u001b[1;33m\u001b[0m\u001b[1;33m\u001b[0m\u001b[0m\n\u001b[0;32m   4905\u001b[0m         \"\"\"\n\u001b[1;32m-> 4906\u001b[1;33m         return super().drop(\n\u001b[0m\u001b[0;32m   4907\u001b[0m             \u001b[0mlabels\u001b[0m\u001b[1;33m=\u001b[0m\u001b[0mlabels\u001b[0m\u001b[1;33m,\u001b[0m\u001b[1;33m\u001b[0m\u001b[1;33m\u001b[0m\u001b[0m\n\u001b[0;32m   4908\u001b[0m             \u001b[0maxis\u001b[0m\u001b[1;33m=\u001b[0m\u001b[0maxis\u001b[0m\u001b[1;33m,\u001b[0m\u001b[1;33m\u001b[0m\u001b[1;33m\u001b[0m\u001b[0m\n",
      "\u001b[1;32m~\\.conda\\envs\\torch\\lib\\site-packages\\pandas\\core\\generic.py\u001b[0m in \u001b[0;36mdrop\u001b[1;34m(self, labels, axis, index, columns, level, inplace, errors)\u001b[0m\n\u001b[0;32m   4148\u001b[0m         \u001b[1;32mfor\u001b[0m \u001b[0maxis\u001b[0m\u001b[1;33m,\u001b[0m \u001b[0mlabels\u001b[0m \u001b[1;32min\u001b[0m \u001b[0maxes\u001b[0m\u001b[1;33m.\u001b[0m\u001b[0mitems\u001b[0m\u001b[1;33m(\u001b[0m\u001b[1;33m)\u001b[0m\u001b[1;33m:\u001b[0m\u001b[1;33m\u001b[0m\u001b[1;33m\u001b[0m\u001b[0m\n\u001b[0;32m   4149\u001b[0m             \u001b[1;32mif\u001b[0m \u001b[0mlabels\u001b[0m \u001b[1;32mis\u001b[0m \u001b[1;32mnot\u001b[0m \u001b[1;32mNone\u001b[0m\u001b[1;33m:\u001b[0m\u001b[1;33m\u001b[0m\u001b[1;33m\u001b[0m\u001b[0m\n\u001b[1;32m-> 4150\u001b[1;33m                 \u001b[0mobj\u001b[0m \u001b[1;33m=\u001b[0m \u001b[0mobj\u001b[0m\u001b[1;33m.\u001b[0m\u001b[0m_drop_axis\u001b[0m\u001b[1;33m(\u001b[0m\u001b[0mlabels\u001b[0m\u001b[1;33m,\u001b[0m \u001b[0maxis\u001b[0m\u001b[1;33m,\u001b[0m \u001b[0mlevel\u001b[0m\u001b[1;33m=\u001b[0m\u001b[0mlevel\u001b[0m\u001b[1;33m,\u001b[0m \u001b[0merrors\u001b[0m\u001b[1;33m=\u001b[0m\u001b[0merrors\u001b[0m\u001b[1;33m)\u001b[0m\u001b[1;33m\u001b[0m\u001b[1;33m\u001b[0m\u001b[0m\n\u001b[0m\u001b[0;32m   4151\u001b[0m \u001b[1;33m\u001b[0m\u001b[0m\n\u001b[0;32m   4152\u001b[0m         \u001b[1;32mif\u001b[0m \u001b[0minplace\u001b[0m\u001b[1;33m:\u001b[0m\u001b[1;33m\u001b[0m\u001b[1;33m\u001b[0m\u001b[0m\n",
      "\u001b[1;32m~\\.conda\\envs\\torch\\lib\\site-packages\\pandas\\core\\generic.py\u001b[0m in \u001b[0;36m_drop_axis\u001b[1;34m(self, labels, axis, level, errors)\u001b[0m\n\u001b[0;32m   4183\u001b[0m                 \u001b[0mnew_axis\u001b[0m \u001b[1;33m=\u001b[0m \u001b[0maxis\u001b[0m\u001b[1;33m.\u001b[0m\u001b[0mdrop\u001b[0m\u001b[1;33m(\u001b[0m\u001b[0mlabels\u001b[0m\u001b[1;33m,\u001b[0m \u001b[0mlevel\u001b[0m\u001b[1;33m=\u001b[0m\u001b[0mlevel\u001b[0m\u001b[1;33m,\u001b[0m \u001b[0merrors\u001b[0m\u001b[1;33m=\u001b[0m\u001b[0merrors\u001b[0m\u001b[1;33m)\u001b[0m\u001b[1;33m\u001b[0m\u001b[1;33m\u001b[0m\u001b[0m\n\u001b[0;32m   4184\u001b[0m             \u001b[1;32melse\u001b[0m\u001b[1;33m:\u001b[0m\u001b[1;33m\u001b[0m\u001b[1;33m\u001b[0m\u001b[0m\n\u001b[1;32m-> 4185\u001b[1;33m                 \u001b[0mnew_axis\u001b[0m \u001b[1;33m=\u001b[0m \u001b[0maxis\u001b[0m\u001b[1;33m.\u001b[0m\u001b[0mdrop\u001b[0m\u001b[1;33m(\u001b[0m\u001b[0mlabels\u001b[0m\u001b[1;33m,\u001b[0m \u001b[0merrors\u001b[0m\u001b[1;33m=\u001b[0m\u001b[0merrors\u001b[0m\u001b[1;33m)\u001b[0m\u001b[1;33m\u001b[0m\u001b[1;33m\u001b[0m\u001b[0m\n\u001b[0m\u001b[0;32m   4186\u001b[0m             \u001b[0mresult\u001b[0m \u001b[1;33m=\u001b[0m \u001b[0mself\u001b[0m\u001b[1;33m.\u001b[0m\u001b[0mreindex\u001b[0m\u001b[1;33m(\u001b[0m\u001b[1;33m**\u001b[0m\u001b[1;33m{\u001b[0m\u001b[0maxis_name\u001b[0m\u001b[1;33m:\u001b[0m \u001b[0mnew_axis\u001b[0m\u001b[1;33m}\u001b[0m\u001b[1;33m)\u001b[0m\u001b[1;33m\u001b[0m\u001b[1;33m\u001b[0m\u001b[0m\n\u001b[0;32m   4187\u001b[0m \u001b[1;33m\u001b[0m\u001b[0m\n",
      "\u001b[1;32m~\\.conda\\envs\\torch\\lib\\site-packages\\pandas\\core\\indexes\\base.py\u001b[0m in \u001b[0;36mdrop\u001b[1;34m(self, labels, errors)\u001b[0m\n\u001b[0;32m   6015\u001b[0m         \u001b[1;32mif\u001b[0m \u001b[0mmask\u001b[0m\u001b[1;33m.\u001b[0m\u001b[0many\u001b[0m\u001b[1;33m(\u001b[0m\u001b[1;33m)\u001b[0m\u001b[1;33m:\u001b[0m\u001b[1;33m\u001b[0m\u001b[1;33m\u001b[0m\u001b[0m\n\u001b[0;32m   6016\u001b[0m             \u001b[1;32mif\u001b[0m \u001b[0merrors\u001b[0m \u001b[1;33m!=\u001b[0m \u001b[1;34m\"ignore\"\u001b[0m\u001b[1;33m:\u001b[0m\u001b[1;33m\u001b[0m\u001b[1;33m\u001b[0m\u001b[0m\n\u001b[1;32m-> 6017\u001b[1;33m                 \u001b[1;32mraise\u001b[0m \u001b[0mKeyError\u001b[0m\u001b[1;33m(\u001b[0m\u001b[1;34mf\"{labels[mask]} not found in axis\"\u001b[0m\u001b[1;33m)\u001b[0m\u001b[1;33m\u001b[0m\u001b[1;33m\u001b[0m\u001b[0m\n\u001b[0m\u001b[0;32m   6018\u001b[0m             \u001b[0mindexer\u001b[0m \u001b[1;33m=\u001b[0m \u001b[0mindexer\u001b[0m\u001b[1;33m[\u001b[0m\u001b[1;33m~\u001b[0m\u001b[0mmask\u001b[0m\u001b[1;33m]\u001b[0m\u001b[1;33m\u001b[0m\u001b[1;33m\u001b[0m\u001b[0m\n\u001b[0;32m   6019\u001b[0m         \u001b[1;32mreturn\u001b[0m \u001b[0mself\u001b[0m\u001b[1;33m.\u001b[0m\u001b[0mdelete\u001b[0m\u001b[1;33m(\u001b[0m\u001b[0mindexer\u001b[0m\u001b[1;33m)\u001b[0m\u001b[1;33m\u001b[0m\u001b[1;33m\u001b[0m\u001b[0m\n",
      "\u001b[1;31mKeyError\u001b[0m: \"['actual_delivery_time'] not found in axis\""
     ]
    }
   ],
   "source": [
    "train_df = data.drop(columns=['created_at','market_id','store_id','store_primary_category','actual_delivery_time',\n",
    "                             'nan_free_store_primary_category','order_protocol'])\n",
    "\n",
    "train_df = pd.concat([train_df,store_primary_category_dummies],axis=1)\n",
    "train_df = train_df.drop(columns=['total_onshift_dashers','total_busy_dashers',\n",
    "                                  'categoryindonesian','actual_delivery_time','non_preparation_duration',]\n",
    "                        )\n",
    "train_df = train_df.astype('float32')\n",
    "train_df.replace([np.inf,-np.inf],np.nan,inplace=True)\n",
    "train_df.dropna(inplace=True)\n",
    "train_df.head()"
   ]
  },
  {
   "cell_type": "code",
   "execution_count": 83,
   "id": "35544e73-ca56-47db-8c93-e325899262da",
   "metadata": {},
   "outputs": [
    {
     "name": "stdout",
     "output_type": "stream",
     "text": [
      "total_items                     num_distinct_items                0.758153\n",
      "subtotal                        num_distinct_items                0.682892\n",
      "total_items                     subtotal                          0.557181\n",
      "min_item_price                  max_item_price                    0.541239\n",
      "subtotal                        max_item_price                    0.507949\n",
      "busy_dashers_percentage         available_dashers                 0.502969\n",
      "num_distinct_items              min_item_price                    0.446735\n",
      "total_items                     min_item_price                    0.389280\n",
      "total_outstanding_orders        available_dashers                 0.200826\n",
      "                                estimated_order_place_duration    0.171010\n",
      "total_items                     categoryfast                      0.170968\n",
      "max_item_price                  categoryitalian                   0.169774\n",
      "                                categoryfast                      0.166186\n",
      "                                categorypizza                     0.157573\n",
      "estimated_order_place_duration  categoryamerican                  0.150171\n",
      "min_item_price                  categorypizza                     0.149579\n",
      "subtotal                        total_outstanding_orders          0.131141\n",
      "max_item_price                  total_outstanding_orders          0.129543\n",
      "min_item_price                  categoryfast                      0.127986\n",
      "max_item_price                  categoryburger                    0.120936\n",
      "dtype: float64\n"
     ]
    }
   ],
   "source": [
    "print(get_top_correlations(train_df,20))"
   ]
  },
  {
   "cell_type": "markdown",
   "id": "26a99502-04b0-4498-82e1-fe40757b846d",
   "metadata": {},
   "source": [
    "## Feature Engineering \n"
   ]
  },
  {
   "cell_type": "code",
   "execution_count": 85,
   "id": "08b861b7-ad8d-4bd0-94aa-96e7d0b92199",
   "metadata": {},
   "outputs": [
    {
     "name": "stdout",
     "output_type": "stream",
     "text": [
      "Top correlations\n",
      "min_item_price                  avg_price_per_item                0.860581\n",
      "max_item_price                  avg_price_per_item                0.770380\n",
      "min_item_price                  max_item_price                    0.541239\n",
      "busy_dashers_percentage         available_dashers                 0.502969\n",
      "total_items                     percent_distinct_item_of_total    0.445763\n",
      "                                min_item_price                    0.389280\n",
      "                                avg_price_per_item                0.310765\n",
      "percent_distinct_item_of_total  avg_price_per_item                0.226718\n",
      "categorypizza                   avg_price_per_item                0.225507\n",
      "total_outstanding_orders        available_dashers                 0.200826\n",
      "max_item_price                  percent_distinct_item_of_total    0.178017\n",
      "categoryfast                    avg_price_per_item                0.175971\n",
      "min_item_price                  percent_distinct_item_of_total    0.173534\n",
      "total_outstanding_orders        estimated_order_place_duration    0.171010\n",
      "total_items                     categoryfast                      0.170968\n",
      "max_item_price                  categoryitalian                   0.169774\n",
      "                                categoryfast                      0.166186\n",
      "categoryitalian                 avg_price_per_item                0.158193\n",
      "max_item_price                  categorypizza                     0.157573\n",
      "categoryfast                    percent_distinct_item_of_total    0.153581\n",
      "dtype: float64\n"
     ]
    }
   ],
   "source": [
    "#new features \n",
    "train_df['percent_distinct_item_of_total'] = train_df['num_distinct_items'] / train_df['total_items']\n",
    "train_df['avg_price_per_item'] = train_df['subtotal'] / train_df['total_items'] \n",
    "train_df.drop(columns=['num_distinct_items','subtotal'],inplace=True)\n",
    "print('Top correlations')\n",
    "print(get_top_correlations(train_df,20))"
   ]
  },
  {
   "cell_type": "code",
   "execution_count": 86,
   "id": "598e109c-99b5-4c3f-ade8-a871c82821e7",
   "metadata": {},
   "outputs": [
    {
     "name": "stdout",
     "output_type": "stream",
     "text": [
      "top correlations\n",
      "busy_dashers_percentage         available_dashers                 0.502969\n",
      "total_items                     percent_distinct_item_of_total    0.445763\n",
      "                                price_range_of_item               0.333309\n",
      "                                avg_price_per_item                0.310765\n",
      "percent_distinct_item_of_total  avg_price_per_item                0.226718\n",
      "categorypizza                   avg_price_per_item                0.225507\n",
      "total_outstanding_orders        available_dashers                 0.200826\n",
      "categoryfast                    avg_price_per_item                0.175971\n",
      "total_outstanding_orders        estimated_order_place_duration    0.171010\n",
      "total_items                     categoryfast                      0.170968\n",
      "categoryitalian                 avg_price_per_item                0.158193\n",
      "categoryfast                    percent_distinct_item_of_total    0.153581\n",
      "estimated_order_place_duration  categoryamerican                  0.150171\n",
      "categoryamerican                categorypizza                     0.106997\n",
      "estimated_order_place_duration  categoryfast                      0.106748\n",
      "categoryamerican                categorymexican                   0.106458\n",
      "categoryburger                  avg_price_per_item                0.104433\n",
      "total_outstanding_orders        price_range_of_item               0.100249\n",
      "categorymexican                 categorypizza                     0.097821\n",
      "total_outstanding_orders        avg_price_per_item                0.088976\n",
      "dtype: float64\n"
     ]
    }
   ],
   "source": [
    "train_df['price_range_of_item'] = train_df['max_item_price'] - train_df['min_item_price'] \n",
    "train_df.drop(columns=['max_item_price','min_item_price'],inplace=True)\n",
    "print('top correlations')\n",
    "print(get_top_correlations(train_df,20))"
   ]
  },
  {
   "cell_type": "code",
   "execution_count": 88,
   "id": "4a27b3ab-28f7-49be-922b-d9b20cc8335f",
   "metadata": {
    "collapsed": true,
    "jupyter": {
     "outputs_hidden": true
    },
    "tags": []
   },
   "outputs": [
    {
     "name": "stdout",
     "output_type": "stream",
     "text": [
      "Requirement already satisfied: statsmodels in c:\\users\\user\\.conda\\envs\\torch\\lib\\site-packages (0.13.2)Note: you may need to restart the kernel to use updated packages.\n",
      "\n",
      "Requirement already satisfied: packaging>=21.3 in c:\\users\\user\\.conda\\envs\\torch\\lib\\site-packages (from statsmodels) (21.3)\n",
      "Requirement already satisfied: scipy>=1.3 in c:\\users\\user\\.conda\\envs\\torch\\lib\\site-packages (from statsmodels) (1.7.3)\n",
      "Requirement already satisfied: pandas>=0.25 in c:\\users\\user\\.conda\\envs\\torch\\lib\\site-packages (from statsmodels) (1.3.5)\n",
      "Requirement already satisfied: numpy>=1.17 in c:\\users\\user\\.conda\\envs\\torch\\lib\\site-packages (from statsmodels) (1.21.5)\n",
      "Requirement already satisfied: patsy>=0.5.2 in c:\\users\\user\\.conda\\envs\\torch\\lib\\site-packages (from statsmodels) (0.5.2)\n",
      "Requirement already satisfied: pyparsing!=3.0.5,>=2.0.2 in c:\\users\\user\\.conda\\envs\\torch\\lib\\site-packages (from packaging>=21.3->statsmodels) (3.0.4)\n",
      "Requirement already satisfied: pytz>=2017.3 in c:\\users\\user\\.conda\\envs\\torch\\lib\\site-packages (from pandas>=0.25->statsmodels) (2022.1)\n",
      "Requirement already satisfied: python-dateutil>=2.7.3 in c:\\users\\user\\.conda\\envs\\torch\\lib\\site-packages (from pandas>=0.25->statsmodels) (2.8.2)\n",
      "Requirement already satisfied: six in c:\\users\\user\\.conda\\envs\\torch\\lib\\site-packages (from patsy>=0.5.2->statsmodels) (1.16.0)\n",
      "\n",
      "[notice] A new release of pip available: 22.1.2 -> 23.2.1\n",
      "[notice] To update, run: python.exe -m pip install --upgrade pip\n"
     ]
    }
   ],
   "source": [
    "%pip install statsmodels"
   ]
  },
  {
   "cell_type": "code",
   "execution_count": 89,
   "id": "b3345264-0835-4d9a-a099-3e0189366ed0",
   "metadata": {},
   "outputs": [],
   "source": [
    "from statsmodels.stats.outliers_influence import variance_inflation_factor"
   ]
  },
  {
   "cell_type": "code",
   "execution_count": 102,
   "id": "6c2d1799-4183-44cd-8d9b-9ee6c57b5797",
   "metadata": {},
   "outputs": [],
   "source": [
    "def compute_vif(features):\n",
    "    '''compute vif score'''\n",
    "    vif_data = pd.DataFrame()\n",
    "    vif_data['feature'] = features \n",
    "    vif_data['vif'] = [variance_inflation_factor(train_df[features].values,i) for i in range(len(features))]\n",
    "    return vif_data.sort_values(by=['vif']).reset_index(drop=True)"
   ]
  },
  {
   "cell_type": "code",
   "execution_count": 103,
   "id": "362f098c-b18a-49f9-afa6-a8c295d5416a",
   "metadata": {},
   "outputs": [
    {
     "data": {
      "text/html": [
       "<div>\n",
       "<style scoped>\n",
       "    .dataframe tbody tr th:only-of-type {\n",
       "        vertical-align: middle;\n",
       "    }\n",
       "\n",
       "    .dataframe tbody tr th {\n",
       "        vertical-align: top;\n",
       "    }\n",
       "\n",
       "    .dataframe thead th {\n",
       "        text-align: right;\n",
       "    }\n",
       "</style>\n",
       "<table border=\"1\" class=\"dataframe\">\n",
       "  <thead>\n",
       "    <tr style=\"text-align: right;\">\n",
       "      <th></th>\n",
       "      <th>feature</th>\n",
       "      <th>vif</th>\n",
       "    </tr>\n",
       "  </thead>\n",
       "  <tbody>\n",
       "    <tr>\n",
       "      <th>0</th>\n",
       "      <td>categoryalcohol-plus-food</td>\n",
       "      <td>1.000374</td>\n",
       "    </tr>\n",
       "    <tr>\n",
       "      <th>1</th>\n",
       "      <td>categorychocolate</td>\n",
       "      <td>1.000508</td>\n",
       "    </tr>\n",
       "    <tr>\n",
       "      <th>2</th>\n",
       "      <td>categorybelgian</td>\n",
       "      <td>1.000761</td>\n",
       "    </tr>\n",
       "    <tr>\n",
       "      <th>3</th>\n",
       "      <td>categoryrussian</td>\n",
       "      <td>1.003302</td>\n",
       "    </tr>\n",
       "    <tr>\n",
       "      <th>4</th>\n",
       "      <td>categoryafrican</td>\n",
       "      <td>1.004002</td>\n",
       "    </tr>\n",
       "    <tr>\n",
       "      <th>...</th>\n",
       "      <td>...</td>\n",
       "      <td>...</td>\n",
       "    </tr>\n",
       "    <tr>\n",
       "      <th>77</th>\n",
       "      <td>categoryamerican</td>\n",
       "      <td>7.155219</td>\n",
       "    </tr>\n",
       "    <tr>\n",
       "      <th>78</th>\n",
       "      <td>estimated_store_to_consumer_driving_duration</td>\n",
       "      <td>7.213114</td>\n",
       "    </tr>\n",
       "    <tr>\n",
       "      <th>79</th>\n",
       "      <td>busy_dashers_percentage</td>\n",
       "      <td>8.615907</td>\n",
       "    </tr>\n",
       "    <tr>\n",
       "      <th>80</th>\n",
       "      <td>estimated_order_place_duration</td>\n",
       "      <td>13.477831</td>\n",
       "    </tr>\n",
       "    <tr>\n",
       "      <th>81</th>\n",
       "      <td>percent_distinct_item_of_total</td>\n",
       "      <td>30.361883</td>\n",
       "    </tr>\n",
       "  </tbody>\n",
       "</table>\n",
       "<p>82 rows × 2 columns</p>\n",
       "</div>"
      ],
      "text/plain": [
       "                                         feature        vif\n",
       "0                      categoryalcohol-plus-food   1.000374\n",
       "1                              categorychocolate   1.000508\n",
       "2                                categorybelgian   1.000761\n",
       "3                                categoryrussian   1.003302\n",
       "4                                categoryafrican   1.004002\n",
       "..                                           ...        ...\n",
       "77                              categoryamerican   7.155219\n",
       "78  estimated_store_to_consumer_driving_duration   7.213114\n",
       "79                       busy_dashers_percentage   8.615907\n",
       "80                estimated_order_place_duration  13.477831\n",
       "81                percent_distinct_item_of_total  30.361883\n",
       "\n",
       "[82 rows x 2 columns]"
      ]
     },
     "execution_count": 103,
     "metadata": {},
     "output_type": "execute_result"
    }
   ],
   "source": [
    "features = train_df.columns.to_list()\n",
    "vif_data = compute_vif(features)\n",
    "vif_data"
   ]
  },
  {
   "cell_type": "code",
   "execution_count": 104,
   "id": "dedb9ff0-6274-4cfe-9dae-5114e79d8fab",
   "metadata": {},
   "outputs": [
    {
     "name": "stdout",
     "output_type": "stream",
     "text": [
      " removing .. percent_distinct_item_of_total\n"
     ]
    }
   ],
   "source": [
    "multi_col = True \n",
    "while multi_col:\n",
    "    highest_vif_feature = vif_data['feature'].values.tolist()[-1]\n",
    "    print(' removing ..' , highest_vif_feature)\n",
    "    features.remove(highest_vif_feature)\n",
    "    vif_data = compute_vif(features)\n",
    "    multi_col = False if len(vif_data[vif_data.vif > 20]) == 0 else True \n"
   ]
  },
  {
   "cell_type": "code",
   "execution_count": 106,
   "id": "46100497-6a2e-4bfb-ab63-3c567f3a2d47",
   "metadata": {},
   "outputs": [
    {
     "data": {
      "text/html": [
       "<div>\n",
       "<style scoped>\n",
       "    .dataframe tbody tr th:only-of-type {\n",
       "        vertical-align: middle;\n",
       "    }\n",
       "\n",
       "    .dataframe tbody tr th {\n",
       "        vertical-align: top;\n",
       "    }\n",
       "\n",
       "    .dataframe thead th {\n",
       "        text-align: right;\n",
       "    }\n",
       "</style>\n",
       "<table border=\"1\" class=\"dataframe\">\n",
       "  <thead>\n",
       "    <tr style=\"text-align: right;\">\n",
       "      <th></th>\n",
       "      <th>feature</th>\n",
       "      <th>vif</th>\n",
       "    </tr>\n",
       "  </thead>\n",
       "  <tbody>\n",
       "    <tr>\n",
       "      <th>0</th>\n",
       "      <td>categoryalcohol-plus-food</td>\n",
       "      <td>1.000227</td>\n",
       "    </tr>\n",
       "    <tr>\n",
       "      <th>1</th>\n",
       "      <td>categorychocolate</td>\n",
       "      <td>1.000384</td>\n",
       "    </tr>\n",
       "    <tr>\n",
       "      <th>2</th>\n",
       "      <td>categorybelgian</td>\n",
       "      <td>1.000466</td>\n",
       "    </tr>\n",
       "    <tr>\n",
       "      <th>3</th>\n",
       "      <td>categoryrussian</td>\n",
       "      <td>1.002111</td>\n",
       "    </tr>\n",
       "    <tr>\n",
       "      <th>4</th>\n",
       "      <td>categorygluten-free</td>\n",
       "      <td>1.002459</td>\n",
       "    </tr>\n",
       "    <tr>\n",
       "      <th>...</th>\n",
       "      <td>...</td>\n",
       "      <td>...</td>\n",
       "    </tr>\n",
       "    <tr>\n",
       "      <th>76</th>\n",
       "      <td>categoryamerican</td>\n",
       "      <td>4.661199</td>\n",
       "    </tr>\n",
       "    <tr>\n",
       "      <th>77</th>\n",
       "      <td>avg_price_per_item</td>\n",
       "      <td>5.959905</td>\n",
       "    </tr>\n",
       "    <tr>\n",
       "      <th>78</th>\n",
       "      <td>estimated_store_to_consumer_driving_duration</td>\n",
       "      <td>7.195294</td>\n",
       "    </tr>\n",
       "    <tr>\n",
       "      <th>79</th>\n",
       "      <td>busy_dashers_percentage</td>\n",
       "      <td>8.593102</td>\n",
       "    </tr>\n",
       "    <tr>\n",
       "      <th>80</th>\n",
       "      <td>estimated_order_place_duration</td>\n",
       "      <td>13.346633</td>\n",
       "    </tr>\n",
       "  </tbody>\n",
       "</table>\n",
       "<p>81 rows × 2 columns</p>\n",
       "</div>"
      ],
      "text/plain": [
       "                                         feature        vif\n",
       "0                      categoryalcohol-plus-food   1.000227\n",
       "1                              categorychocolate   1.000384\n",
       "2                                categorybelgian   1.000466\n",
       "3                                categoryrussian   1.002111\n",
       "4                            categorygluten-free   1.002459\n",
       "..                                           ...        ...\n",
       "76                              categoryamerican   4.661199\n",
       "77                            avg_price_per_item   5.959905\n",
       "78  estimated_store_to_consumer_driving_duration   7.195294\n",
       "79                       busy_dashers_percentage   8.593102\n",
       "80                estimated_order_place_duration  13.346633\n",
       "\n",
       "[81 rows x 2 columns]"
      ]
     },
     "execution_count": 106,
     "metadata": {},
     "output_type": "execute_result"
    }
   ],
   "source": [
    "selected_features = vif_data['feature'].values.tolist()\n",
    "vif_data"
   ]
  },
  {
   "cell_type": "markdown",
   "id": "5f66ecae-aa36-4cc9-82d9-a9204fc67fe3",
   "metadata": {},
   "source": [
    "## Feature selection"
   ]
  },
  {
   "cell_type": "code",
   "execution_count": 108,
   "id": "a034a8cc-ddeb-42f4-9a03-815119cf566e",
   "metadata": {},
   "outputs": [
    {
     "ename": "KeyError",
     "evalue": "'actual_delivery_duration'",
     "output_type": "error",
     "traceback": [
      "\u001b[1;31m---------------------------------------------------------------------------\u001b[0m",
      "\u001b[1;31mKeyError\u001b[0m                                  Traceback (most recent call last)",
      "\u001b[1;32m~\\.conda\\envs\\torch\\lib\\site-packages\\pandas\\core\\indexes\\base.py\u001b[0m in \u001b[0;36mget_loc\u001b[1;34m(self, key, method, tolerance)\u001b[0m\n\u001b[0;32m   3360\u001b[0m             \u001b[1;32mtry\u001b[0m\u001b[1;33m:\u001b[0m\u001b[1;33m\u001b[0m\u001b[1;33m\u001b[0m\u001b[0m\n\u001b[1;32m-> 3361\u001b[1;33m                 \u001b[1;32mreturn\u001b[0m \u001b[0mself\u001b[0m\u001b[1;33m.\u001b[0m\u001b[0m_engine\u001b[0m\u001b[1;33m.\u001b[0m\u001b[0mget_loc\u001b[0m\u001b[1;33m(\u001b[0m\u001b[0mcasted_key\u001b[0m\u001b[1;33m)\u001b[0m\u001b[1;33m\u001b[0m\u001b[1;33m\u001b[0m\u001b[0m\n\u001b[0m\u001b[0;32m   3362\u001b[0m             \u001b[1;32mexcept\u001b[0m \u001b[0mKeyError\u001b[0m \u001b[1;32mas\u001b[0m \u001b[0merr\u001b[0m\u001b[1;33m:\u001b[0m\u001b[1;33m\u001b[0m\u001b[1;33m\u001b[0m\u001b[0m\n",
      "\u001b[1;32m~\\.conda\\envs\\torch\\lib\\site-packages\\pandas\\_libs\\index.pyx\u001b[0m in \u001b[0;36mpandas._libs.index.IndexEngine.get_loc\u001b[1;34m()\u001b[0m\n",
      "\u001b[1;32m~\\.conda\\envs\\torch\\lib\\site-packages\\pandas\\_libs\\index.pyx\u001b[0m in \u001b[0;36mpandas._libs.index.IndexEngine.get_loc\u001b[1;34m()\u001b[0m\n",
      "\u001b[1;32mpandas\\_libs\\hashtable_class_helper.pxi\u001b[0m in \u001b[0;36mpandas._libs.hashtable.PyObjectHashTable.get_item\u001b[1;34m()\u001b[0m\n",
      "\u001b[1;32mpandas\\_libs\\hashtable_class_helper.pxi\u001b[0m in \u001b[0;36mpandas._libs.hashtable.PyObjectHashTable.get_item\u001b[1;34m()\u001b[0m\n",
      "\u001b[1;31mKeyError\u001b[0m: 'actual_delivery_duration'",
      "\nThe above exception was the direct cause of the following exception:\n",
      "\u001b[1;31mKeyError\u001b[0m                                  Traceback (most recent call last)",
      "\u001b[1;32m~\\AppData\\Local\\Temp\\ipykernel_19916\\3787246932.py\u001b[0m in \u001b[0;36m<module>\u001b[1;34m\u001b[0m\n\u001b[0;32m      4\u001b[0m \u001b[1;33m\u001b[0m\u001b[0m\n\u001b[0;32m      5\u001b[0m \u001b[0mx\u001b[0m \u001b[1;33m=\u001b[0m \u001b[0mtrain_df\u001b[0m\u001b[1;33m[\u001b[0m\u001b[0mselected_features\u001b[0m\u001b[1;33m]\u001b[0m\u001b[1;33m\u001b[0m\u001b[1;33m\u001b[0m\u001b[0m\n\u001b[1;32m----> 6\u001b[1;33m \u001b[0my\u001b[0m\u001b[1;33m=\u001b[0m \u001b[0mtrain_df\u001b[0m\u001b[1;33m[\u001b[0m\u001b[1;34m'actual_delivery_duration'\u001b[0m\u001b[1;33m]\u001b[0m\u001b[1;33m\u001b[0m\u001b[1;33m\u001b[0m\u001b[0m\n\u001b[0m\u001b[0;32m      7\u001b[0m x_train,x_test,y_train,y_test = train_test_split(\n\u001b[0;32m      8\u001b[0m     x,y,test_size=0.2,random_state=42)\n",
      "\u001b[1;32m~\\.conda\\envs\\torch\\lib\\site-packages\\pandas\\core\\frame.py\u001b[0m in \u001b[0;36m__getitem__\u001b[1;34m(self, key)\u001b[0m\n\u001b[0;32m   3456\u001b[0m             \u001b[1;32mif\u001b[0m \u001b[0mself\u001b[0m\u001b[1;33m.\u001b[0m\u001b[0mcolumns\u001b[0m\u001b[1;33m.\u001b[0m\u001b[0mnlevels\u001b[0m \u001b[1;33m>\u001b[0m \u001b[1;36m1\u001b[0m\u001b[1;33m:\u001b[0m\u001b[1;33m\u001b[0m\u001b[1;33m\u001b[0m\u001b[0m\n\u001b[0;32m   3457\u001b[0m                 \u001b[1;32mreturn\u001b[0m \u001b[0mself\u001b[0m\u001b[1;33m.\u001b[0m\u001b[0m_getitem_multilevel\u001b[0m\u001b[1;33m(\u001b[0m\u001b[0mkey\u001b[0m\u001b[1;33m)\u001b[0m\u001b[1;33m\u001b[0m\u001b[1;33m\u001b[0m\u001b[0m\n\u001b[1;32m-> 3458\u001b[1;33m             \u001b[0mindexer\u001b[0m \u001b[1;33m=\u001b[0m \u001b[0mself\u001b[0m\u001b[1;33m.\u001b[0m\u001b[0mcolumns\u001b[0m\u001b[1;33m.\u001b[0m\u001b[0mget_loc\u001b[0m\u001b[1;33m(\u001b[0m\u001b[0mkey\u001b[0m\u001b[1;33m)\u001b[0m\u001b[1;33m\u001b[0m\u001b[1;33m\u001b[0m\u001b[0m\n\u001b[0m\u001b[0;32m   3459\u001b[0m             \u001b[1;32mif\u001b[0m \u001b[0mis_integer\u001b[0m\u001b[1;33m(\u001b[0m\u001b[0mindexer\u001b[0m\u001b[1;33m)\u001b[0m\u001b[1;33m:\u001b[0m\u001b[1;33m\u001b[0m\u001b[1;33m\u001b[0m\u001b[0m\n\u001b[0;32m   3460\u001b[0m                 \u001b[0mindexer\u001b[0m \u001b[1;33m=\u001b[0m \u001b[1;33m[\u001b[0m\u001b[0mindexer\u001b[0m\u001b[1;33m]\u001b[0m\u001b[1;33m\u001b[0m\u001b[1;33m\u001b[0m\u001b[0m\n",
      "\u001b[1;32m~\\.conda\\envs\\torch\\lib\\site-packages\\pandas\\core\\indexes\\base.py\u001b[0m in \u001b[0;36mget_loc\u001b[1;34m(self, key, method, tolerance)\u001b[0m\n\u001b[0;32m   3361\u001b[0m                 \u001b[1;32mreturn\u001b[0m \u001b[0mself\u001b[0m\u001b[1;33m.\u001b[0m\u001b[0m_engine\u001b[0m\u001b[1;33m.\u001b[0m\u001b[0mget_loc\u001b[0m\u001b[1;33m(\u001b[0m\u001b[0mcasted_key\u001b[0m\u001b[1;33m)\u001b[0m\u001b[1;33m\u001b[0m\u001b[1;33m\u001b[0m\u001b[0m\n\u001b[0;32m   3362\u001b[0m             \u001b[1;32mexcept\u001b[0m \u001b[0mKeyError\u001b[0m \u001b[1;32mas\u001b[0m \u001b[0merr\u001b[0m\u001b[1;33m:\u001b[0m\u001b[1;33m\u001b[0m\u001b[1;33m\u001b[0m\u001b[0m\n\u001b[1;32m-> 3363\u001b[1;33m                 \u001b[1;32mraise\u001b[0m \u001b[0mKeyError\u001b[0m\u001b[1;33m(\u001b[0m\u001b[0mkey\u001b[0m\u001b[1;33m)\u001b[0m \u001b[1;32mfrom\u001b[0m \u001b[0merr\u001b[0m\u001b[1;33m\u001b[0m\u001b[1;33m\u001b[0m\u001b[0m\n\u001b[0m\u001b[0;32m   3364\u001b[0m \u001b[1;33m\u001b[0m\u001b[0m\n\u001b[0;32m   3365\u001b[0m         \u001b[1;32mif\u001b[0m \u001b[0mis_scalar\u001b[0m\u001b[1;33m(\u001b[0m\u001b[0mkey\u001b[0m\u001b[1;33m)\u001b[0m \u001b[1;32mand\u001b[0m \u001b[0misna\u001b[0m\u001b[1;33m(\u001b[0m\u001b[0mkey\u001b[0m\u001b[1;33m)\u001b[0m \u001b[1;32mand\u001b[0m \u001b[1;32mnot\u001b[0m \u001b[0mself\u001b[0m\u001b[1;33m.\u001b[0m\u001b[0mhasnans\u001b[0m\u001b[1;33m:\u001b[0m\u001b[1;33m\u001b[0m\u001b[1;33m\u001b[0m\u001b[0m\n",
      "\u001b[1;31mKeyError\u001b[0m: 'actual_delivery_duration'"
     ]
    }
   ],
   "source": [
    "# applying random forest regression to find gini's importance \n",
    "from sklearn.ensemble import RandomForestRegressor\n",
    "from sklearn.model_selection import train_test_split\n",
    "\n",
    "x = train_df[selected_features]\n",
    "y= train_df['actual_delivery_duration']\n",
    "x_train,x_test,y_train,y_test = train_test_split(\n",
    "    x,y,test_size=0.2,random_state=42)"
   ]
  },
  {
   "cell_type": "code",
   "execution_count": null,
   "id": "119bea3b-6b31-4c42-8d10-880b385e4b25",
   "metadata": {},
   "outputs": [],
   "source": [
    "feature_names = [f\"feature"
   ]
  }
 ],
 "metadata": {
  "kernelspec": {
   "display_name": "Python 3 (ipykernel)",
   "language": "python",
   "name": "python3"
  },
  "language_info": {
   "codemirror_mode": {
    "name": "ipython",
    "version": 3
   },
   "file_extension": ".py",
   "mimetype": "text/x-python",
   "name": "python",
   "nbconvert_exporter": "python",
   "pygments_lexer": "ipython3",
   "version": "3.9.12"
  }
 },
 "nbformat": 4,
 "nbformat_minor": 5
}
